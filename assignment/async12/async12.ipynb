{
  "nbformat": 4,
  "nbformat_minor": 2,
  "metadata": {
    "colab": {
      "name": "async11.ipynb",
      "provenance": []
    },
    "kernelspec": {
      "name": "python3",
      "display_name": "Python 3.8.0 64-bit"
    },
    "language_info": {
      "name": "python",
      "version": "3.8.0",
      "mimetype": "text/x-python",
      "codemirror_mode": {
        "name": "ipython",
        "version": 3
      },
      "pygments_lexer": "ipython3",
      "nbconvert_exporter": "python",
      "file_extension": ".py"
    },
    "interpreter": {
      "hash": "31f2aee4e71d21fbe5cf8b01ff0e069b9275f58929596ceb00d14d90e3e16cd6"
    }
  },
  "cells": [
    {
      "cell_type": "markdown",
      "source": [
        "# LUIS Assignment\n",
        "\n",
        "- Author: Salsabila Zahirah Pranida\n",
        "- Class: DAI-003\n",
        "\n",
        "Description:\n",
        "\n",
        "Create a language understanding model by defining your own case (for example, you need to know the intent and entity in the conversation in ticket/meal ordering, or other fields). The model is made by knowing 10 different utterances, showing test results"
      ],
      "metadata": {
        "id": "K4EuZAKNFX4G"
      }
    },
    {
      "cell_type": "code",
      "execution_count": 8,
      "source": [
        "# libraries need\n",
        "import luis\n",
        "import matplotlib.pyplot as plt\n",
        "from PIL import Image\n",
        "import os\n",
        "%matplotlib inline"
      ],
      "outputs": [],
      "metadata": {
        "id": "bhKf9ugaGDYV"
      }
    },
    {
      "cell_type": "code",
      "execution_count": 19,
      "source": [
        "try:\n",
        "    # Set up API configuration\n",
        "    luis_app_id = '33f115cf-d563-4d61-9615-710f9cb693b3'\n",
        "    luis_key = '668fb45e75ff41a7b0a0c423d7d62d14'\n",
        "    luis_endpoint = 'https://ml-luis01.cognitiveservices.azure.com/'\n",
        "\n",
        "    # prompt for a command\n",
        "    command = input('Please enter a command: \\n')\n",
        "\n",
        "    # get the predicted intent and entity (code in python_code.home_auto.py)\n",
        "    action = luis.get_intent(luis_app_id, luis_key, luis_endpoint, command)\n",
        "    \n",
        "    print(action)\n",
        "    \n",
        "except Exception as ex:\n",
        "    print(ex)"
      ],
      "outputs": [
        {
          "output_type": "stream",
          "name": "stdout",
          "text": [
            "delivery to home an lage papperoni pizza with fries and a can of coke\n",
            "- predicted intent: order\n",
            "- predicted entity: pizza\n",
            "order_pizza\n"
          ]
        }
      ],
      "metadata": {}
    }
  ]
}