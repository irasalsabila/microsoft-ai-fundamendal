{
  "nbformat": 4,
  "nbformat_minor": 2,
  "metadata": {
    "colab": {
      "name": "async11.ipynb",
      "provenance": []
    },
    "kernelspec": {
      "name": "python3",
      "display_name": "Python 3.8.0 64-bit"
    },
    "language_info": {
      "name": "python",
      "version": "3.8.0",
      "mimetype": "text/x-python",
      "codemirror_mode": {
        "name": "ipython",
        "version": 3
      },
      "pygments_lexer": "ipython3",
      "nbconvert_exporter": "python",
      "file_extension": ".py"
    },
    "interpreter": {
      "hash": "31f2aee4e71d21fbe5cf8b01ff0e069b9275f58929596ceb00d14d90e3e16cd6"
    }
  },
  "cells": [
    {
      "cell_type": "markdown",
      "source": [
        "# Translation Assignment\n",
        "\n",
        "- Author: Salsabila Zahirah Pranida\n",
        "- Class: DAI-003\n",
        "\n",
        "Description:\n",
        "\n",
        "Make a simple machine translator with input in the form of voice which is inputted through a microphone then the result is a translation in a foreign language, such as English. The result of the translation can be in the form of writing or audio speech in a foreign language"
      ],
      "metadata": {
        "id": "K4EuZAKNFX4G"
      }
    },
    {
      "cell_type": "code",
      "execution_count": 5,
      "source": [
        "# libraries need\n",
        "import os\n",
        "import azure.cognitiveservices.speech as aspeech\n",
        "from pydub import AudioSegment\n",
        "from pydub.playback import play"
      ],
      "outputs": [],
      "metadata": {
        "id": "bhKf9ugaGDYV"
      }
    },
    {
      "cell_type": "code",
      "execution_count": 4,
      "source": [
        "# config key and endpoint of speech\n",
        "cog_key = 'ac0d4e2e9b6c4cc8b80a2b4661d8ad9f'\n",
        "cog_location = 'southeastasia'\n",
        "\n",
        "print('Ready to use cognitive services in {} using key {}'.format(cog_location, cog_key))"
      ],
      "outputs": [
        {
          "output_type": "stream",
          "name": "stdout",
          "text": [
            "Ready to use cognitive services in southeastasia using key ac0d4e2e9b6c4cc8b80a2b4661d8ad9f\n"
          ]
        }
      ],
      "metadata": {
        "colab": {
          "base_uri": "https://localhost:8080/"
        },
        "id": "X4MSA_r0Gdcg",
        "outputId": "fd0cfbcc-73a4-4deb-ef95-2dd232c1dc0d"
      }
    },
    {
      "cell_type": "code",
      "execution_count": 6,
      "source": [
        "# set up translation parameters: source language and target languages\n",
        "translation_config = aspeech.translation.SpeechTranslationConfig(\n",
        "    subscription=cog_key, region=cog_location,\n",
        "    speech_recognition_language='id-ID', # Translate from Indonesia\n",
        "    target_languages=('de', 'fr', 'zh-Hans')) # Translate to German, French, and Chinese\n",
        "\n",
        "audio_config = aspeech.AudioConfig(use_default_microphone=True) # Use microphone instead of file\n",
        "print(\"Say something...\")\n",
        "\n",
        "# Creates a translation recognizer using and audio file as input.\n",
        "recognizer = aspeech.translation.TranslationRecognizer(\n",
        "    translation_config=translation_config, audio_config=audio_config)\n",
        "\n",
        "# Saving result\n",
        "result_text = recognizer.recognize_once()\n",
        "\n",
        "# Check the result\n",
        "if result_text.reason == aspeech.ResultReason.TranslatedSpeech:\n",
        "    print(\"\"\"Recognized: {}\n",
        "    German translation: {}\n",
        "    French translation: {}\n",
        "    Chinese translation: {}\"\"\".format(\n",
        "        result_text.text, result_text.translations['de'],\n",
        "        result_text.translations['fr'],\n",
        "        result_text.translations['zh-Hans'],))\n",
        "elif result_text.reason == aspeech.ResultReason.NoMatch:\n",
        "    print(\"No speech could be recognized: {}\".format(result_text.no_match_details))\n",
        "elif result_text.reason == aspeech.ResultReason.Canceled:\n",
        "    print(\"Translation canceled: {}\".format(result_text.cancellation_details.reason))\n",
        "    if result_text.cancellation_details.reason == aspeech.CancellationReason.Error:\n",
        "        print(\"Error details: {}\".format(result_text.cancellation_details.error_details))"
      ],
      "outputs": [
        {
          "output_type": "stream",
          "name": "stdout",
          "text": [
            "Say something...\n",
            "Recognized: Halo nama saya ira dari kelas Microsoft.\n",
            "    German translation: Hallo, mein Name ist IRA von Microsoft Klasse.\n",
            "    French translation: Bonjour, je m’appelle IRA de la classe Microsoft.\n",
            "    Chinese translation: 你好， 我叫艾拉从微软类。\n"
          ]
        }
      ],
      "metadata": {}
    }
  ]
}